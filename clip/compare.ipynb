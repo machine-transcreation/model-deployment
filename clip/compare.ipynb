{
 "cells": [
  {
   "cell_type": "code",
   "execution_count": 13,
   "metadata": {},
   "outputs": [],
   "source": [
    "import os\n",
    "import torch\n",
    "import numpy as np\n",
    "import matplotlib.pyplot as plt\n",
    "from PIL import Image\n",
    "from transformers import CLIPProcessor, CLIPModel\n",
    "from sklearn.metrics.pairwise import cosine_similarity\n",
    "from skimage.metrics import structural_similarity"
   ]
  },
  {
   "cell_type": "code",
   "execution_count": 14,
   "metadata": {},
   "outputs": [
    {
     "name": "stderr",
     "output_type": "stream",
     "text": [
      "c:\\Users\\Jainish\\AppData\\Local\\Programs\\Python\\Python310\\lib\\site-packages\\transformers\\tokenization_utils_base.py:1601: FutureWarning: `clean_up_tokenization_spaces` was not set. It will be set to `True` by default. This behavior will be depracted in transformers v4.45, and will be then set to `False` by default. For more details check this issue: https://github.com/huggingface/transformers/issues/31884\n",
      "  warnings.warn(\n"
     ]
    }
   ],
   "source": [
    "model = CLIPModel.from_pretrained(\"openai/clip-vit-base-patch32\")\n",
    "processor = CLIPProcessor.from_pretrained(\"openai/clip-vit-base-patch32\")"
   ]
  },
  {
   "cell_type": "code",
   "execution_count": 15,
   "metadata": {},
   "outputs": [],
   "source": [
    "base_dir = \"./images\"\n",
    "original_dir = os.path.join(base_dir, \"Original\")\n",
    "models_dirs = {\n",
    "    \"Platform\": os.path.join(base_dir, \"Platform\"),\n",
    "    \"Google Imagen 3\": os.path.join(base_dir, \"Google Imagen\"),\n",
    "    \"OpenAI Dalle 3\": os.path.join(base_dir, \"Dalle\"),\n",
    "}"
   ]
  },
  {
   "cell_type": "code",
   "execution_count": 16,
   "metadata": {},
   "outputs": [],
   "source": [
    "original_images = []\n",
    "original_image_info = {}\n",
    "for index, image_path in enumerate(os.listdir(original_dir)):\n",
    "    img = Image.open(f'{original_dir}/{image_path}')\n",
    "    original_images.append(img)\n",
    "    original_image_info[index] = {\"name\": image_path.replace(\".png\", \"\").replace(\".jpg\", \"\"), \"image\": img}"
   ]
  },
  {
   "cell_type": "code",
   "execution_count": 17,
   "metadata": {},
   "outputs": [],
   "source": [
    "all_images = [original_images]  \n",
    "model_image_info = {}\n",
    "for model_name, model_dir in models_dirs.items():\n",
    "    model_images = []\n",
    "    for image_path in os.listdir(model_dir):\n",
    "        img = Image.open(f'{model_dir}/{image_path}')\n",
    "        model_images.append(img)\n",
    "    model_image_info[model_name] = model_images\n",
    "    all_images.append(model_images)\n",
    "\n",
    "flattened_images = original_images[:]\n",
    "for model_images in model_image_info.values():\n",
    "    flattened_images.extend(model_images)"
   ]
  },
  {
   "cell_type": "code",
   "execution_count": 18,
   "metadata": {},
   "outputs": [],
   "source": [
    "inputs = processor(images=flattened_images, return_tensors=\"pt\", padding=True)\n",
    "\n",
    "with torch.no_grad():\n",
    "    image_features = model.get_image_features(**inputs)"
   ]
  },
  {
   "cell_type": "code",
   "execution_count": 19,
   "metadata": {},
   "outputs": [],
   "source": [
    "def compare_images(image_features, img1_idx, img2_idx, original_image, compared_image):\n",
    "    original_image_resized = original_image.resize(compared_image.size)\n",
    "    \n",
    "    original_image_array = np.array(original_image_resized.convert(\"L\"))\n",
    "    compared_image_array = np.array(compared_image.convert(\"L\"))\n",
    "    \n",
    "    cosine_sim = cosine_similarity(image_features[img1_idx].unsqueeze(0), image_features[img2_idx].unsqueeze(0))[0][0]\n",
    "    \n",
    "    ssim = structural_similarity(original_image_array, compared_image_array)\n",
    "    \n",
    "    return cosine_sim, ssim\n"
   ]
  },
  {
   "cell_type": "code",
   "execution_count": 20,
   "metadata": {},
   "outputs": [],
   "source": [
    "cosine_similarities = []\n",
    "structural_similarities = []\n",
    "labels = []\n",
    "\n",
    "\n",
    "for index, info in original_image_info.items():\n",
    "    original_image = info['image']  \n",
    "    \n",
    "    for model_name, model_images in model_image_info.items():\n",
    "        if index >= len(model_images):\n",
    "            print(f\"No image at index {index} for model {model_name}\")\n",
    "            continue\n",
    "        \n",
    "        compared_image = model_images[index]  \n",
    "        \n",
    "        compared_image_idx = len(original_images) + list(model_image_info.keys()).index(model_name) * len(original_images) + index\n",
    "        \n",
    "        try:\n",
    "            cosine_sim, ssim = compare_images(image_features, index, compared_image_idx, original_image, compared_image)\n",
    "            \n",
    "            cosine_similarities.append(cosine_sim)\n",
    "            structural_similarities.append(ssim)\n",
    "            labels.append(f'{model_name} - {info[\"name\"]}')\n",
    "        \n",
    "        except Exception as e:\n",
    "            print(f\"Error comparing images at index {index} for model {model_name}: {e}\")\n",
    "\n"
   ]
  },
  {
   "cell_type": "code",
   "execution_count": 21,
   "metadata": {},
   "outputs": [],
   "source": [
    "categories = ['Platform', 'Google Imagen 3', 'OpenAI Dalle 3']\n",
    "avg_cosine = []\n",
    "avg_ssim = []\n",
    "\n",
    "for category in categories:\n",
    "    category_cosine = [cos for cos, label in zip(cosine_similarities, labels) if category in label]\n",
    "    category_ssim = [ssim for ssim, label in zip(structural_similarities, labels) if category in label]\n",
    "    \n",
    "    avg_cosine.append(np.mean(category_cosine))\n",
    "    avg_ssim.append(np.mean(category_ssim))"
   ]
  },
  {
   "cell_type": "code",
   "execution_count": 22,
   "metadata": {},
   "outputs": [
    {
     "data": {
      "image/png": "[encoded data removed]",
      "text/plain": [
       "<Figure size 720x432 with 1 Axes>"
      ]
     },
     "metadata": {
      "needs_background": "light"
     },
     "output_type": "display_data"
    }
   ],
   "source": [
    "fig, ax = plt.subplots(figsize=(10, 6))\n",
    "\n",
    "width = 0.35\n",
    "x = np.arange(len(categories))\n",
    "\n",
    "rects1 = ax.bar(x - width/2, avg_cosine, width, label='Cosine Similarity', color='#1f77b4')\n",
    "rects2 = ax.bar(x + width/2, avg_ssim, width, label='Structural Similarity', color='#ff7f0e')\n",
    "\n",
    "ax.set_ylabel('Average Similarity Score')\n",
    "ax.set_title('Average Cosine and SSIM Comparison by Model Category')\n",
    "ax.set_xticks(x)\n",
    "ax.set_xticklabels(categories)\n",
    "ax.legend()\n",
    "\n",
    "def autolabel(rects):\n",
    "    for rect in rects:\n",
    "        height = rect.get_height()\n",
    "        ax.annotate(f'{height:.2f}',\n",
    "                    xy=(rect.get_x() + rect.get_width() / 2, height),\n",
    "                    xytext=(0, 3), \n",
    "                    textcoords=\"offset points\",\n",
    "                    ha='center', va='bottom')\n",
    "\n",
    "autolabel(rects1)\n",
    "autolabel(rects2)\n",
    "\n",
    "fig.tight_layout()\n",
    "plt.show()"
   ]
  }
 ],
 "metadata": {
  "kernelspec": {
   "display_name": "Python 3",
   "language": "python",
   "name": "python3"
  },
  "language_info": {
   "codemirror_mode": {
    "name": "ipython",
    "version": 3
   },
   "file_extension": ".py",
   "mimetype": "text/x-python",
   "name": "python",
   "nbconvert_exporter": "python",
   "pygments_lexer": "ipython3",
   "version": "3.10.0"
  }
 },
 "nbformat": 4,
 "nbformat_minor": 2
}
